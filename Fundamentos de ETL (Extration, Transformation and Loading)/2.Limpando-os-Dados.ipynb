{
 "cells": [
  {
   "cell_type": "raw",
   "id": "5809845e",
   "metadata": {},
   "source": [
    "# dados a serem arrumados, procurar eles e retirar:\n",
    "ocorrencia_uf\n",
    "**\n",
    "\n",
    "ocorrencia_aerodromo\n",
    "###!\n",
    "####\n",
    "****\n",
    "*****\n",
    "\n",
    "ocorrencia_hora\n",
    "NULL\n"
   ]
  },
  {
   "cell_type": "code",
   "execution_count": null,
   "id": "0a91ec49",
   "metadata": {},
   "outputs": [],
   "source": [
    "import pandas as pd\n",
    "import pandera as pa\n",
    "\n",
    "df = pd.read_csv('ocorrencia_2010_2020.csv', sep=';', parse_dates=['ocorrencia_dia'], dayfirst=True) # sep é p dizer como os códigos estão separados\n",
    "df.head(10)"
   ]
  },
  {
   "cell_type": "code",
   "execution_count": null,
   "id": "10c09047",
   "metadata": {},
   "outputs": [],
   "source": [
    "df.loc[df.ocorrencia_aerodromo == '****', ['ocorrencia_aerodromo']] = pd.NA\n",
    "df.head()\n"
   ]
  },
  {
   "cell_type": "code",
   "execution_count": null,
   "id": "9fe7ab73",
   "metadata": {},
   "outputs": [],
   "source": [
    "# um jeito mais rápido de arrumar esses replaces todos seria:\n",
    "df.replace(['**','###!','####',\"****\",\"*****\",'NULL'], pd.NA, inplace=True)\n",
    "df\n"
   ]
  },
  {
   "cell_type": "code",
   "execution_count": null,
   "id": "df38458c",
   "metadata": {},
   "outputs": [],
   "source": [
    "# como saber quantos NA você tem no seu dataframe\n",
    "df.isna().sum()"
   ]
  },
  {
   "cell_type": "code",
   "execution_count": null,
   "id": "7a73d302",
   "metadata": {},
   "outputs": [],
   "source": [
    "# ou pode usar o .isnull\n",
    "df.isnull.sum()"
   ]
  },
  {
   "cell_type": "raw",
   "id": "17f24f47",
   "metadata": {},
   "source": [
    "# para esses dados nao informados podemos preencher eles usando .fillna()\n",
    "df.fillna(0, inplace=True) # vai colocar zero"
   ]
  },
  {
   "cell_type": "raw",
   "id": "d8099ff9",
   "metadata": {},
   "source": [
    "df.fillna(value={'total_recomendacoes':10}, inplace=True)"
   ]
  },
  {
   "cell_type": "code",
   "execution_count": null,
   "id": "209e44bc",
   "metadata": {},
   "outputs": [],
   "source": [
    "df.['total_recomendacoes_bkp'] = df.total_recomendacoes\n",
    "df.head()\n"
   ]
  },
  {
   "cell_type": "code",
   "execution_count": null,
   "id": "271aa4b9",
   "metadata": {},
   "outputs": [],
   "source": [
    "# remover a coluna\n",
    "df.drop['total_recomendacoes_bkp', axis=1, inplace=True] # por padrao ele dropa axis=0 q é linha, então axis=1 é a coluna\n",
    "df"
   ]
  },
  {
   "cell_type": "code",
   "execution_count": null,
   "id": "960567c4",
   "metadata": {},
   "outputs": [],
   "source": [
    "# vai dropar todas as linhas que tiverem NA em alguma coluna\n",
    "df.dropna()"
   ]
  },
  {
   "cell_type": "code",
   "execution_count": null,
   "id": "90fb4699",
   "metadata": {},
   "outputs": [],
   "source": [
    "# se quiser tirar NA apenas de uma coluna especifica\n",
    "df.dropna(subset=['ocorrencia_uf'], inplace=True)"
   ]
  },
  {
   "cell_type": "code",
   "execution_count": null,
   "id": "761e9bb8",
   "metadata": {},
   "outputs": [],
   "source": [
    "# dropas linhas duplicadas\n",
    "df.drop_duplicates(inplace=True)\n",
    "df"
   ]
  },
  {
   "cell_type": "code",
   "execution_count": null,
   "id": "ff26cd36",
   "metadata": {},
   "outputs": [],
   "source": [
    "# ter cuidados com os outliers, dropar eles - tem q ver a estrategia da equipe/trabalho"
   ]
  }
 ],
 "metadata": {
  "kernelspec": {
   "display_name": "Python 3 (ipykernel)",
   "language": "python",
   "name": "python3"
  },
  "language_info": {
   "codemirror_mode": {
    "name": "ipython",
    "version": 3
   },
   "file_extension": ".py",
   "mimetype": "text/x-python",
   "name": "python",
   "nbconvert_exporter": "python",
   "pygments_lexer": "ipython3",
   "version": "3.9.7"
  }
 },
 "nbformat": 4,
 "nbformat_minor": 5
}
